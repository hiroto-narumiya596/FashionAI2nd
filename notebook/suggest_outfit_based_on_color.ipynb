{
 "cells": [
  {
   "cell_type": "code",
   "execution_count": 1,
   "metadata": {},
   "outputs": [
    {
     "name": "stderr",
     "output_type": "stream",
     "text": [
      "* Owlready2 * Warning: optimized Cython parser module 'owlready2_optimized' is not available, defaulting to slower Python implementation\n"
     ]
    }
   ],
   "source": [
    "import sys\n",
    "\n",
    "sys.path.append(\"../lib\")\n",
    "from outfit_suggestion import OutfitSuggestion"
   ]
  },
  {
   "cell_type": "code",
   "execution_count": 3,
   "metadata": {},
   "outputs": [],
   "source": [
    "onto = OutfitSuggestion(\"APIKEYを入れる\")"
   ]
  },
  {
   "cell_type": "code",
   "execution_count": 4,
   "metadata": {},
   "outputs": [],
   "source": [
    "response = onto.receive_response_from_API(\"夏っぽいメンズ服\")"
   ]
  },
  {
   "cell_type": "code",
   "execution_count": 5,
   "metadata": {},
   "outputs": [],
   "source": [
    "res_dict = onto.load_json_str(response)"
   ]
  },
  {
   "cell_type": "code",
   "execution_count": 6,
   "metadata": {},
   "outputs": [
    {
     "data": {
      "text/plain": [
       "{'トップス': {'ImageURL': 'https://z-shopping.c.yimg.jp/058/72698058/72698058b_1_d_500.jpg',\n",
       "  'ItemURL': 'https://store.shopping.yahoo.co.jp/zozo/71698058.html',\n",
       "  'ItemName': 'tシャツ Tシャツ ミックスGAPロゴ Tシャツ'},\n",
       " 'パンツ': {'ImageURL': 'https://z-shopping.c.yimg.jp/920/57324920/57324920b_8_d_500.jpg',\n",
       "  'ItemURL': 'https://store.shopping.yahoo.co.jp/zozo/56324920.html',\n",
       "  'ItemName': 'パンツ チノパン FREE＆FLOW ウェーダーパンツ'},\n",
       " 'シューズ': {'ImageURL': 'https://z-shopping.c.yimg.jp/981/66280981/66280981_1_d_500.jpg',\n",
       "  'ItemURL': 'https://store.shopping.yahoo.co.jp/zozo/65280981.html',\n",
       "  'ItemName': 'スニーカー 【GAP】ギャップ\\u3000スリッポンスニーカー\\u3000GPU22203'},\n",
       " 'アウター': {'ImageURL': '', 'ItemURL': '', 'ItemName': ''},\n",
       " '解説': '夏らしい清涼感のあるホワイトのTシャツに、ダークカラーのスタンダードなチノパンツに白のスニーカーを合わせたカジュアルなコーディネートです。アウターは不要で、腕時計やサングラスなど小物でアクセントをつけるのがおすすめです。'}"
      ]
     },
     "execution_count": 6,
     "metadata": {},
     "output_type": "execute_result"
    }
   ],
   "source": [
    "onto.get_URL_list(res_dict)"
   ]
  },
  {
   "cell_type": "code",
   "execution_count": null,
   "metadata": {},
   "outputs": [],
   "source": []
  }
 ],
 "metadata": {
  "kernelspec": {
   "display_name": "Python 3",
   "language": "python",
   "name": "python3"
  },
  "language_info": {
   "codemirror_mode": {
    "name": "ipython",
    "version": 3
   },
   "file_extension": ".py",
   "mimetype": "text/x-python",
   "name": "python",
   "nbconvert_exporter": "python",
   "pygments_lexer": "ipython3",
   "version": "3.10.0"
  },
  "orig_nbformat": 4
 },
 "nbformat": 4,
 "nbformat_minor": 2
}
